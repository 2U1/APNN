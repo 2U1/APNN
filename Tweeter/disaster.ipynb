{
 "cells": [
  {
   "cell_type": "code",
   "execution_count": 1,
   "metadata": {},
   "outputs": [],
   "source": [
    "import pandas as pd\n",
    "import os\n",
    "from sklearn.model_selection import train_test_split\n",
    "from tqdm import tqdm\n",
    "\n",
    "import torch\n",
    "from torch import nn\n",
    "from torch.optim import Adam\n",
    "from torch.utils.data import DataLoader, Dataset\n",
    "\n",
    "from transformers import BertTokenizerFast, BertForSequenceClassification, get_linear_schedule_with_warmup"
   ]
  },
  {
   "cell_type": "code",
   "execution_count": 2,
   "metadata": {},
   "outputs": [
    {
     "name": "stdout",
     "output_type": "stream",
     "text": [
      "./dataset/test.csv\n",
      "./dataset/train.csv\n"
     ]
    }
   ],
   "source": [
    "for dirname, _, filenames in os.walk('./dataset'):\n",
    "    for filename in filenames:\n",
    "        print(os.path.join(dirname, filename))"
   ]
  },
  {
   "cell_type": "code",
   "execution_count": 3,
   "metadata": {},
   "outputs": [],
   "source": [
    "def preprocessing(df, text_field):\n",
    "    df[text_field] = df[text_field].str.replace(r\"http\\S+\", \"http\", regex=True)\n",
    "    df[text_field] = df[text_field].str.replace(r\"http\", \"http\", regex=True)\n",
    "    df[text_field] = df[text_field].str.replace(r\"@\\S+\", \"@user\", regex=True)\n",
    "    df[text_field] = df[text_field].str.replace(r\"[^A-Za-z0-9(),!?@\\'\\`\\\"\\_\\n]\", \" \", regex=True)\n",
    "    df[text_field] = df[text_field].str.replace(r\"@\", \"at\", regex=True)\n",
    "    df[text_field] = df[text_field].str.lower()\n",
    "    return df"
   ]
  },
  {
   "cell_type": "code",
   "execution_count": 4,
   "metadata": {},
   "outputs": [],
   "source": [
    "class TwitterDataset(Dataset):\n",
    "    def __init__(self, text_list, label_list):\n",
    "        assert (len(text_list) == len(label_list))\n",
    "\n",
    "        self.text_list = text_list\n",
    "        self.label_list = label_list\n",
    "\n",
    "    def __len__(self):\n",
    "        return len(self.text_list)\n",
    "    \n",
    "    def __getitem__(self, idx):\n",
    "        return self.text_list[idx], self.label_list[idx]"
   ]
  },
  {
   "cell_type": "code",
   "execution_count": 5,
   "metadata": {},
   "outputs": [],
   "source": [
    "class Collator():\n",
    "    def __init__(self, tokenizer, max_length=512):\n",
    "        self.tokenizer = tokenizer\n",
    "        self.max_length = max_length\n",
    "\n",
    "    def __call__(self, batch):\n",
    "        text_list, label_list = zip(*batch)\n",
    "        \n",
    "        batch = self.tokenizer(text_list, \n",
    "                            max_length=self.max_length, \n",
    "                            padding='max_length', \n",
    "                            return_tensors='pt')\n",
    "\n",
    "        output = dict(input_ids=batch['input_ids'],\n",
    "                      attention_mask=batch['attention_mask'],\n",
    "                      labels=torch.tensor(label_list, dtype=torch.int64))\n",
    "        \n",
    "        return output"
   ]
  },
  {
   "cell_type": "code",
   "execution_count": 6,
   "metadata": {},
   "outputs": [],
   "source": [
    "def train_model(net, dataloader_dict, criterion, optimizer, num_epochs, scheduler):\n",
    "    \n",
    "    device = torch.device(\"cuda:0\" if torch.cuda.is_available() else \"cpu\")\n",
    "    net.to(device)\n",
    "    \n",
    "    torch.backends.cudnn.benchmark = True\n",
    "\n",
    "    for epoch in range(num_epochs):\n",
    "        print('Epoch {}/{}'.format(epoch+1, num_epochs))\n",
    "        print('-' * 20)\n",
    "    \n",
    "        for phase in [\"train\", \"val\"]:\n",
    "            if phase == 'train':\n",
    "                net.train()\n",
    "            else:\n",
    "                net.eval()\n",
    "\n",
    "            epoch_loss = 0.0\n",
    "            epoch_corrects = 0\n",
    "\n",
    "            if (epoch == 0) and (phase == \"train\"):\n",
    "                continue\n",
    "\n",
    "            for minibatch in dataloader_dict[phase]:\n",
    "                inputs = minibatch['input_ids'].to(device)\n",
    "                labels = minibatch['labels'].to(device)\n",
    "                attention_mask = minibatch['attention_mask'].to(device)\n",
    "                \n",
    "                optimizer.zero_grad()\n",
    "\n",
    "                with torch.set_grad_enabled(phase == 'train'):\n",
    "                    logits = net(inputs, attention_mask).logits\n",
    "                    probs = torch.softmax(logits, dim=-1)\n",
    "                    preds = torch.argmax(probs, dim=-1)\n",
    "\n",
    "                    loss = criterion(logits, labels)\n",
    "                    if phase == 'train':\n",
    "                        loss.backward()\n",
    "                        optimizer.step()\n",
    "                        scheduler.step()\n",
    "\n",
    "                    epoch_loss += loss.item() * inputs.size(0)\n",
    "                    epoch_corrects += torch.sum(preds == labels.data)\n",
    "\n",
    "            epoch_loss = epoch_loss / len(dataloader_dict[phase].dataset)\n",
    "            epoch_acc = epoch_corrects.double() / len(dataloader_dict[phase].dataset)\n",
    "\n",
    "            print('{} Loss: {:.4f} Acc: {:.4f}'.format(phase, epoch_loss, epoch_acc))"
   ]
  },
  {
   "cell_type": "code",
   "execution_count": 7,
   "metadata": {},
   "outputs": [],
   "source": [
    "def get_dataloader(train_data, valid_data, batch_size, collate_fn):\n",
    "    train_dataloader = DataLoader(train_data, batch_size=batch_size, shuffle=True, collate_fn=collate_fn)\n",
    "    valid_dataloader = DataLoader(valid_data, batch_size=batch_size, shuffle=False, collate_fn=collate_fn)\n",
    "\n",
    "    dataloader_dict = {\"train\": train_dataloader, \"val\": valid_dataloader}\n",
    "\n",
    "    return dataloader_dict"
   ]
  },
  {
   "cell_type": "code",
   "execution_count": 8,
   "metadata": {},
   "outputs": [],
   "source": [
    "DATA_PATH = './dataset/train.csv'\n",
    "VALID_RATIO = 0.2\n",
    "RANDOM_SEED = 119\n",
    "BATCH_SIZE = 128\n",
    "NUM_EPOCHS = 10\n",
    "MAX_LEN = 150\n",
    "LEARNING_RATE = 5e-5\n",
    "WARMUP_RATIO = 0.2\n",
    "PRETRAINED_MODEL_NAME = 'bert-base-uncased'\n",
    "MODEL_PATH = './model/tweet-bert-base-uncased.pth'"
   ]
  },
  {
   "cell_type": "code",
   "execution_count": 9,
   "metadata": {},
   "outputs": [],
   "source": [
    "def main():\n",
    "    data = pd.read_csv(DATA_PATH)\n",
    "    data = preprocessing(data, 'text')\n",
    "\n",
    "    data_text, data_labels = data['text'].to_list(), data['target'].to_list()\n",
    "    train_texts, val_texts, train_labels, val_labels = train_test_split(data_text, data_labels, test_size=VALID_RATIO, random_state=RANDOM_SEED)\n",
    "\n",
    "    num_labels = len(set(train_labels))\n",
    "\n",
    "    train_data = TwitterDataset(train_texts, train_labels)\n",
    "    valid_data = TwitterDataset(val_texts, val_labels)\n",
    "\n",
    "    num_training_step = (len(train_data)//BATCH_SIZE + 1) * NUM_EPOCHS\n",
    "    num_warmup_steps = int(num_training_step * WARMUP_RATIO)\n",
    "\n",
    "    tokenizer = BertTokenizerFast.from_pretrained(PRETRAINED_MODEL_NAME)\n",
    "\n",
    "    dataloders_dict = get_dataloader(train_data, valid_data, BATCH_SIZE, Collator(tokenizer, MAX_LEN))\n",
    "\n",
    "    model = BertForSequenceClassification.from_pretrained(PRETRAINED_MODEL_NAME, num_labels=num_labels)\n",
    "    optimizer = Adam(params=model.parameters(), lr=LEARNING_RATE)\n",
    "    loss_fn = nn.CrossEntropyLoss()\n",
    "    scheduler = get_linear_schedule_with_warmup(optimizer, num_warmup_steps=num_warmup_steps, num_training_steps=num_training_step)\n",
    "\n",
    "    train_model(model, dataloders_dict, loss_fn, optimizer, NUM_EPOCHS, scheduler)\n",
    "\n",
    "    torch.save(obj={\"bert\":model.state_dict(),\n",
    "                    \"tokenizer\":tokenizer,\n",
    "                    \"num_labels\":num_labels},\n",
    "                    f=MODEL_PATH)    "
   ]
  },
  {
   "cell_type": "code",
   "execution_count": 10,
   "metadata": {},
   "outputs": [
    {
     "name": "stderr",
     "output_type": "stream",
     "text": [
      "/tmp/ipykernel_32764/1084091555.py:2: FutureWarning: The default value of regex will change from True to False in a future version.\n",
      "  df[text_field] = df[text_field].str.replace(r\"http\\S+\", \"http\")\n",
      "/tmp/ipykernel_32764/1084091555.py:4: FutureWarning: The default value of regex will change from True to False in a future version.\n",
      "  df[text_field] = df[text_field].str.replace(r\"@\\S+\", \"@user\")\n",
      "/tmp/ipykernel_32764/1084091555.py:5: FutureWarning: The default value of regex will change from True to False in a future version.\n",
      "  df[text_field] = df[text_field].str.replace(r\"[^A-Za-z0-9(),!?@\\'\\`\\\"\\_\\n]\", \" \")\n",
      "Some weights of the model checkpoint at bert-base-uncased were not used when initializing BertForSequenceClassification: ['cls.predictions.transform.LayerNorm.bias', 'cls.predictions.bias', 'cls.predictions.decoder.weight', 'cls.predictions.transform.dense.weight', 'cls.predictions.transform.dense.bias', 'cls.seq_relationship.bias', 'cls.predictions.transform.LayerNorm.weight', 'cls.seq_relationship.weight']\n",
      "- This IS expected if you are initializing BertForSequenceClassification from the checkpoint of a model trained on another task or with another architecture (e.g. initializing a BertForSequenceClassification model from a BertForPreTraining model).\n",
      "- This IS NOT expected if you are initializing BertForSequenceClassification from the checkpoint of a model that you expect to be exactly identical (initializing a BertForSequenceClassification model from a BertForSequenceClassification model).\n",
      "Some weights of BertForSequenceClassification were not initialized from the model checkpoint at bert-base-uncased and are newly initialized: ['classifier.bias', 'classifier.weight']\n",
      "You should probably TRAIN this model on a down-stream task to be able to use it for predictions and inference.\n"
     ]
    },
    {
     "name": "stdout",
     "output_type": "stream",
     "text": [
      "Epoch 1/10\n",
      "--------------------\n",
      "val Loss: 0.8776 Acc: 0.4386\n",
      "Epoch 2/10\n",
      "--------------------\n",
      "train Loss: 0.6639 Acc: 0.6076\n",
      "val Loss: 0.4690 Acc: 0.7919\n",
      "Epoch 3/10\n",
      "--------------------\n",
      "train Loss: 0.4076 Acc: 0.8309\n",
      "val Loss: 0.4157 Acc: 0.8181\n",
      "Epoch 4/10\n",
      "--------------------\n",
      "train Loss: 0.3186 Acc: 0.8814\n",
      "val Loss: 0.4311 Acc: 0.8227\n",
      "Epoch 5/10\n",
      "--------------------\n",
      "train Loss: 0.2257 Acc: 0.9233\n",
      "val Loss: 0.4279 Acc: 0.8253\n",
      "Epoch 6/10\n",
      "--------------------\n",
      "train Loss: 0.1615 Acc: 0.9442\n",
      "val Loss: 0.5412 Acc: 0.8227\n",
      "Epoch 7/10\n",
      "--------------------\n",
      "train Loss: 0.1160 Acc: 0.9617\n",
      "val Loss: 0.6807 Acc: 0.7984\n",
      "Epoch 8/10\n",
      "--------------------\n",
      "train Loss: 0.0913 Acc: 0.9691\n",
      "val Loss: 0.6593 Acc: 0.8221\n",
      "Epoch 9/10\n",
      "--------------------\n",
      "train Loss: 0.0659 Acc: 0.9760\n",
      "val Loss: 0.6902 Acc: 0.8227\n",
      "Epoch 10/10\n",
      "--------------------\n",
      "train Loss: 0.0519 Acc: 0.9800\n",
      "val Loss: 0.7215 Acc: 0.8168\n"
     ]
    }
   ],
   "source": [
    "main()"
   ]
  }
 ],
 "metadata": {
  "kernelspec": {
   "display_name": "Python 3.9.12 ('DL')",
   "language": "python",
   "name": "python3"
  },
  "language_info": {
   "codemirror_mode": {
    "name": "ipython",
    "version": 3
   },
   "file_extension": ".py",
   "mimetype": "text/x-python",
   "name": "python",
   "nbconvert_exporter": "python",
   "pygments_lexer": "ipython3",
   "version": "3.9.12"
  },
  "orig_nbformat": 4,
  "vscode": {
   "interpreter": {
    "hash": "fe294e6606534daba89c1dc14d4f5ef002211ec8430f3955bebe6e14ba2710b8"
   }
  }
 },
 "nbformat": 4,
 "nbformat_minor": 2
}
